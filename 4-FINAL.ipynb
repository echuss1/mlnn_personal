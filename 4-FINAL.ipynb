{
 "cells": [
  {
   "cell_type": "markdown",
   "metadata": {},
   "source": [
    "# Instructions\n",
    "The following Cells need to be executed.\n",
    "\n",
    "They are used to download and generate a dataset that has an aggregated count of bike trips per hundredth of an hour through the 24 hours in a day. \n",
    "\n",
    "I put all this here instead of providing you the dataset directly, so that you could learn something along the way :) \n",
    "\n",
    "The assignment is in the last cell."
   ]
  },
  {
   "cell_type": "code",
   "execution_count": 25,
   "metadata": {},
   "outputs": [
    {
     "name": "stdout",
     "output_type": "stream",
     "text": [
      "Collecting seaborn\n",
      "  Downloading seaborn-0.7.1.tar.gz (158kB)\n",
      "\u001b[K    100% |████████████████████████████████| 163kB 1.8MB/s ta 0:00:01\n",
      "\u001b[?25hBuilding wheels for collected packages: seaborn\n",
      "  Running setup.py bdist_wheel for seaborn ... \u001b[?25ldone\n",
      "\u001b[?25h  Stored in directory: /Users/mahmoud/Library/Caches/pip/wheels/cb/c8/67/83d615c0ef9b529558525aa521025b183de8c5b156799b091e\n",
      "Successfully built seaborn\n",
      "Installing collected packages: seaborn\n",
      "Successfully installed seaborn-0.7.1\n"
     ]
    }
   ],
   "source": [
    "!pip3 install seaborn"
   ]
  },
  {
   "cell_type": "markdown",
   "metadata": {},
   "source": [
    "## This cell automatically downloads Capital Bikeshare data"
   ]
  },
  {
   "cell_type": "code",
   "execution_count": 9,
   "metadata": {},
   "outputs": [
    {
     "name": "stdout",
     "output_type": "stream",
     "text": [
      "Downloading: 2016 Q1 | Extracting... | Created: ../data/2016-Q1-cabi-trip-history-data.csv\n"
     ]
    }
   ],
   "source": [
    "import sys\n",
    "sys.path.append('..')\n",
    "from utils.bikeshare import download_bikeshare_data\n",
    "\n",
    "download_bikeshare_data(2016, 1, '../data/')"
   ]
  },
  {
   "cell_type": "markdown",
   "metadata": {},
   "source": [
    "### And here we read in the data"
   ]
  },
  {
   "cell_type": "code",
   "execution_count": 4,
   "metadata": {},
   "outputs": [
    {
     "data": {
      "text/html": [
       "<div>\n",
       "<style scoped>\n",
       "    .dataframe tbody tr th:only-of-type {\n",
       "        vertical-align: middle;\n",
       "    }\n",
       "\n",
       "    .dataframe tbody tr th {\n",
       "        vertical-align: top;\n",
       "    }\n",
       "\n",
       "    .dataframe thead th {\n",
       "        text-align: right;\n",
       "    }\n",
       "</style>\n",
       "<table border=\"1\" class=\"dataframe\">\n",
       "  <thead>\n",
       "    <tr style=\"text-align: right;\">\n",
       "      <th></th>\n",
       "      <th>Duration</th>\n",
       "      <th>Start date</th>\n",
       "      <th>End date</th>\n",
       "      <th>Start station number</th>\n",
       "      <th>Start station</th>\n",
       "      <th>End station number</th>\n",
       "      <th>End station</th>\n",
       "      <th>Bike number</th>\n",
       "      <th>Member type</th>\n",
       "      <th>start</th>\n",
       "      <th>end</th>\n",
       "    </tr>\n",
       "  </thead>\n",
       "  <tbody>\n",
       "    <tr>\n",
       "      <th>0</th>\n",
       "      <td>166</td>\n",
       "      <td>2016-01-01 00:06:58</td>\n",
       "      <td>2016-01-01 00:09:44</td>\n",
       "      <td>31102</td>\n",
       "      <td>11th &amp; Kenyon St NW</td>\n",
       "      <td>31105</td>\n",
       "      <td>14th &amp; Harvard St NW</td>\n",
       "      <td>W01346</td>\n",
       "      <td>Member</td>\n",
       "      <td>2016-01-01 00:06:58</td>\n",
       "      <td>2016-01-01 00:09:44</td>\n",
       "    </tr>\n",
       "    <tr>\n",
       "      <th>1</th>\n",
       "      <td>448</td>\n",
       "      <td>2016-01-01 00:10:20</td>\n",
       "      <td>2016-01-01 00:17:48</td>\n",
       "      <td>32039</td>\n",
       "      <td>Old Georgetown Rd &amp; Southwick St</td>\n",
       "      <td>32002</td>\n",
       "      <td>Bethesda Ave &amp; Arlington Rd</td>\n",
       "      <td>W22202</td>\n",
       "      <td>Member</td>\n",
       "      <td>2016-01-01 00:10:20</td>\n",
       "      <td>2016-01-01 00:17:48</td>\n",
       "    </tr>\n",
       "    <tr>\n",
       "      <th>2</th>\n",
       "      <td>715</td>\n",
       "      <td>2016-01-01 00:13:52</td>\n",
       "      <td>2016-01-01 00:25:48</td>\n",
       "      <td>31222</td>\n",
       "      <td>New York Ave &amp; 15th St NW</td>\n",
       "      <td>31214</td>\n",
       "      <td>17th &amp; Corcoran St NW</td>\n",
       "      <td>W21427</td>\n",
       "      <td>Member</td>\n",
       "      <td>2016-01-01 00:13:52</td>\n",
       "      <td>2016-01-01 00:25:48</td>\n",
       "    </tr>\n",
       "    <tr>\n",
       "      <th>3</th>\n",
       "      <td>213</td>\n",
       "      <td>2016-01-01 00:15:29</td>\n",
       "      <td>2016-01-01 00:19:03</td>\n",
       "      <td>31506</td>\n",
       "      <td>1st &amp; Rhode Island Ave NW</td>\n",
       "      <td>31509</td>\n",
       "      <td>New Jersey Ave &amp; R St NW</td>\n",
       "      <td>W01294</td>\n",
       "      <td>Member</td>\n",
       "      <td>2016-01-01 00:15:29</td>\n",
       "      <td>2016-01-01 00:19:03</td>\n",
       "    </tr>\n",
       "    <tr>\n",
       "      <th>4</th>\n",
       "      <td>872</td>\n",
       "      <td>2016-01-01 00:16:16</td>\n",
       "      <td>2016-01-01 00:30:49</td>\n",
       "      <td>31041</td>\n",
       "      <td>Prince St &amp; Union St</td>\n",
       "      <td>31048</td>\n",
       "      <td>King St Metro South</td>\n",
       "      <td>W22058</td>\n",
       "      <td>Member</td>\n",
       "      <td>2016-01-01 00:16:16</td>\n",
       "      <td>2016-01-01 00:30:49</td>\n",
       "    </tr>\n",
       "  </tbody>\n",
       "</table>\n",
       "</div>"
      ],
      "text/plain": [
       "   Duration           Start date             End date  Start station number  \\\n",
       "0       166  2016-01-01 00:06:58  2016-01-01 00:09:44                 31102   \n",
       "1       448  2016-01-01 00:10:20  2016-01-01 00:17:48                 32039   \n",
       "2       715  2016-01-01 00:13:52  2016-01-01 00:25:48                 31222   \n",
       "3       213  2016-01-01 00:15:29  2016-01-01 00:19:03                 31506   \n",
       "4       872  2016-01-01 00:16:16  2016-01-01 00:30:49                 31041   \n",
       "\n",
       "                      Start station  End station number  \\\n",
       "0               11th & Kenyon St NW               31105   \n",
       "1  Old Georgetown Rd & Southwick St               32002   \n",
       "2         New York Ave & 15th St NW               31214   \n",
       "3         1st & Rhode Island Ave NW               31509   \n",
       "4              Prince St & Union St               31048   \n",
       "\n",
       "                   End station Bike number Member type               start  \\\n",
       "0         14th & Harvard St NW      W01346      Member 2016-01-01 00:06:58   \n",
       "1  Bethesda Ave & Arlington Rd      W22202      Member 2016-01-01 00:10:20   \n",
       "2        17th & Corcoran St NW      W21427      Member 2016-01-01 00:13:52   \n",
       "3     New Jersey Ave & R St NW      W01294      Member 2016-01-01 00:15:29   \n",
       "4          King St Metro South      W22058      Member 2016-01-01 00:16:16   \n",
       "\n",
       "                  end  \n",
       "0 2016-01-01 00:09:44  \n",
       "1 2016-01-01 00:17:48  \n",
       "2 2016-01-01 00:25:48  \n",
       "3 2016-01-01 00:19:03  \n",
       "4 2016-01-01 00:30:49  "
      ]
     },
     "execution_count": 4,
     "metadata": {},
     "output_type": "execute_result"
    }
   ],
   "source": [
    "import seaborn as sns\n",
    "import matplotlib.pyplot as plt\n",
    "%matplotlib inline\n",
    "import pandas as pd\n",
    "bikes = pd.read_csv('../data/2016Q1-capitalbikeshare-tripdata.csv')\n",
    "bikes.head()\n",
    "bikes['start'] = pd.to_datetime(bikes['Start date'], infer_datetime_format=True)\n",
    "bikes['end'] = pd.to_datetime(bikes['End date'], infer_datetime_format=True)\n",
    "\n",
    "bikes.head()"
   ]
  },
  {
   "cell_type": "markdown",
   "metadata": {},
   "source": [
    "### Create a new column that represents the hour of the day "
   ]
  },
  {
   "cell_type": "code",
   "execution_count": 5,
   "metadata": {},
   "outputs": [],
   "source": [
    "bikes['hour_of_day'] = (bikes.start.dt.hour + (bikes.start.dt.minute/60).round(2))"
   ]
  },
  {
   "cell_type": "markdown",
   "metadata": {},
   "source": [
    "### Aggregate to get a count per hour/minute of the day across all trips"
   ]
  },
  {
   "cell_type": "code",
   "execution_count": 6,
   "metadata": {},
   "outputs": [
    {
     "data": {
      "text/plain": [
       "<matplotlib.axes._subplots.AxesSubplot at 0x27b0f91c208>"
      ]
     },
     "execution_count": 6,
     "metadata": {},
     "output_type": "execute_result"
    },
    {
     "data": {
      "image/png": "[encoded data removed]",
      "text/plain": [
       "<Figure size 432x288 with 1 Axes>"
      ]
     },
     "metadata": {},
     "output_type": "display_data"
    }
   ],
   "source": [
    "hours = bikes.groupby('hour_of_day').agg('count')\n",
    "hours['hour'] = hours.index\n",
    "\n",
    "hours.start.plot()\n",
    "# import seaborn as sns\n",
    "\n",
    "# sns.lmplot(x='hour', y='start', data=hours, aspect=1.5, scatter_kws={'alpha':0.2})"
   ]
  },
  {
   "cell_type": "markdown",
   "metadata": {},
   "source": [
    "# Assignment 4\n",
    "Using the **`hours`** dataframe and the `hour_of_day` column, perform the following cells. \n",
    "\n",
    "Explain the results in a **paragraph + charts** of  to describe which model you'd recommend"
   ]
  },
  {
   "cell_type": "markdown",
   "metadata": {
    "collapsed": true
   },
   "source": [
    "\n",
    "## 1. Create 3 models fit to `hour_of_day` with varying polynomial degrees "
   ]
  },
  {
   "cell_type": "code",
   "execution_count": 7,
   "metadata": {},
   "outputs": [],
   "source": [
    "import numpy as np\n",
    "import matplotlib.pylab as plt\n",
    "%matplotlib inline\n",
    "from sklearn import linear_model"
   ]
  },
  {
   "cell_type": "code",
   "execution_count": 15,
   "metadata": {},
   "outputs": [
    {
     "data": {
      "text/html": [
       "<div>\n",
       "<style scoped>\n",
       "    .dataframe tbody tr th:only-of-type {\n",
       "        vertical-align: middle;\n",
       "    }\n",
       "\n",
       "    .dataframe tbody tr th {\n",
       "        vertical-align: top;\n",
       "    }\n",
       "\n",
       "    .dataframe thead th {\n",
       "        text-align: right;\n",
       "    }\n",
       "</style>\n",
       "<table border=\"1\" class=\"dataframe\">\n",
       "  <thead>\n",
       "    <tr style=\"text-align: right;\">\n",
       "      <th></th>\n",
       "      <th>Duration</th>\n",
       "      <th>Start date</th>\n",
       "      <th>End date</th>\n",
       "      <th>Start station number</th>\n",
       "      <th>Start station</th>\n",
       "      <th>End station number</th>\n",
       "      <th>End station</th>\n",
       "      <th>Bike number</th>\n",
       "      <th>Member type</th>\n",
       "      <th>start</th>\n",
       "      <th>end</th>\n",
       "      <th>hour</th>\n",
       "    </tr>\n",
       "    <tr>\n",
       "      <th>hour_of_day</th>\n",
       "      <th></th>\n",
       "      <th></th>\n",
       "      <th></th>\n",
       "      <th></th>\n",
       "      <th></th>\n",
       "      <th></th>\n",
       "      <th></th>\n",
       "      <th></th>\n",
       "      <th></th>\n",
       "      <th></th>\n",
       "      <th></th>\n",
       "      <th></th>\n",
       "    </tr>\n",
       "  </thead>\n",
       "  <tbody>\n",
       "    <tr>\n",
       "      <th>0.00</th>\n",
       "      <td>71</td>\n",
       "      <td>71</td>\n",
       "      <td>71</td>\n",
       "      <td>71</td>\n",
       "      <td>71</td>\n",
       "      <td>71</td>\n",
       "      <td>71</td>\n",
       "      <td>71</td>\n",
       "      <td>71</td>\n",
       "      <td>71</td>\n",
       "      <td>71</td>\n",
       "      <td>0.00</td>\n",
       "    </tr>\n",
       "    <tr>\n",
       "      <th>0.02</th>\n",
       "      <td>88</td>\n",
       "      <td>88</td>\n",
       "      <td>88</td>\n",
       "      <td>88</td>\n",
       "      <td>88</td>\n",
       "      <td>88</td>\n",
       "      <td>88</td>\n",
       "      <td>88</td>\n",
       "      <td>88</td>\n",
       "      <td>88</td>\n",
       "      <td>88</td>\n",
       "      <td>0.02</td>\n",
       "    </tr>\n",
       "    <tr>\n",
       "      <th>0.03</th>\n",
       "      <td>74</td>\n",
       "      <td>74</td>\n",
       "      <td>74</td>\n",
       "      <td>74</td>\n",
       "      <td>74</td>\n",
       "      <td>74</td>\n",
       "      <td>74</td>\n",
       "      <td>74</td>\n",
       "      <td>74</td>\n",
       "      <td>74</td>\n",
       "      <td>74</td>\n",
       "      <td>0.03</td>\n",
       "    </tr>\n",
       "    <tr>\n",
       "      <th>0.05</th>\n",
       "      <td>77</td>\n",
       "      <td>77</td>\n",
       "      <td>77</td>\n",
       "      <td>77</td>\n",
       "      <td>77</td>\n",
       "      <td>77</td>\n",
       "      <td>77</td>\n",
       "      <td>77</td>\n",
       "      <td>77</td>\n",
       "      <td>77</td>\n",
       "      <td>77</td>\n",
       "      <td>0.05</td>\n",
       "    </tr>\n",
       "    <tr>\n",
       "      <th>0.07</th>\n",
       "      <td>66</td>\n",
       "      <td>66</td>\n",
       "      <td>66</td>\n",
       "      <td>66</td>\n",
       "      <td>66</td>\n",
       "      <td>66</td>\n",
       "      <td>66</td>\n",
       "      <td>66</td>\n",
       "      <td>66</td>\n",
       "      <td>66</td>\n",
       "      <td>66</td>\n",
       "      <td>0.07</td>\n",
       "    </tr>\n",
       "  </tbody>\n",
       "</table>\n",
       "</div>"
      ],
      "text/plain": [
       "             Duration  Start date  End date  Start station number  \\\n",
       "hour_of_day                                                         \n",
       "0.00               71          71        71                    71   \n",
       "0.02               88          88        88                    88   \n",
       "0.03               74          74        74                    74   \n",
       "0.05               77          77        77                    77   \n",
       "0.07               66          66        66                    66   \n",
       "\n",
       "             Start station  End station number  End station  Bike number  \\\n",
       "hour_of_day                                                                \n",
       "0.00                    71                  71           71           71   \n",
       "0.02                    88                  88           88           88   \n",
       "0.03                    74                  74           74           74   \n",
       "0.05                    77                  77           77           77   \n",
       "0.07                    66                  66           66           66   \n",
       "\n",
       "             Member type  start  end  hour  \n",
       "hour_of_day                                 \n",
       "0.00                  71     71   71  0.00  \n",
       "0.02                  88     88   88  0.02  \n",
       "0.03                  74     74   74  0.03  \n",
       "0.05                  77     77   77  0.05  \n",
       "0.07                  66     66   66  0.07  "
      ]
     },
     "execution_count": 15,
     "metadata": {},
     "output_type": "execute_result"
    }
   ],
   "source": [
    "hours\n",
    "hours.head()"
   ]
  },
  {
   "cell_type": "code",
   "execution_count": 19,
   "metadata": {},
   "outputs": [
    {
     "data": {
      "text/plain": [
       "[<matplotlib.lines.Line2D at 0x27b0fafe9b0>]"
      ]
     },
     "execution_count": 19,
     "metadata": {},
     "output_type": "execute_result"
    },
    {
     "data": {
      "image/png": "[encoded data removed]",
      "text/plain": [
       "<Figure size 432x288 with 1 Axes>"
      ]
     },
     "metadata": {},
     "output_type": "display_data"
    }
   ],
   "source": [
    "n = 552400\n",
    "x = np.linspace(0.01, 3, n).reshape(-1, 1)\n",
    "y = np.linspace(0.01, 3, n) * np.linspace(0.01, 3, n) + np.random.rand(n) - .5\n",
    "\n",
    "\n",
    "plt.scatter(x,y)\n",
    "plt.plot(x, x*linear.coef_ + linear.intercept_, c='b')"
   ]
  },
  {
   "cell_type": "code",
   "execution_count": 17,
   "metadata": {},
   "outputs": [
    {
     "data": {
      "text/plain": [
       "(array([3.00979324]), -1.5202046888365257)"
      ]
     },
     "execution_count": 17,
     "metadata": {},
     "output_type": "execute_result"
    }
   ],
   "source": [
    "linear = linear_model.LinearRegression()\n",
    "\n",
    "linear.fit(x, y)\n",
    "\n",
    "linear.coef_, linear.intercept_"
   ]
  },
  {
   "cell_type": "code",
   "execution_count": 18,
   "metadata": {},
   "outputs": [
    {
     "data": {
      "text/plain": [
       "[<matplotlib.lines.Line2D at 0x27b0fb5d3c8>]"
      ]
     },
     "execution_count": 18,
     "metadata": {},
     "output_type": "execute_result"
    },
    {
     "data": {
      "image/png": "[encoded data removed]",
      "text/plain": [
       "<Figure size 432x288 with 1 Axes>"
      ]
     },
     "metadata": {},
     "output_type": "display_data"
    }
   ],
   "source": [
    "plt.scatter(x,y)\n",
    "plt.plot(x, x*linear.coef_ + linear.intercept_, c='b')"
   ]
  },
  {
   "cell_type": "code",
   "execution_count": 21,
   "metadata": {},
   "outputs": [],
   "source": [
    "from sklearn.preprocessing import PolynomialFeatures\n",
    "\n",
    "poly = PolynomialFeatures(degree=15)\n",
    "\n",
    "x_15= poly.fit_transform(x.reshape(-1, 1))"
   ]
  },
  {
   "cell_type": "code",
   "execution_count": 22,
   "metadata": {},
   "outputs": [
    {
     "data": {
      "text/plain": [
       "(array([ 0.00000000e+00,  6.65557172e-01, -9.74062628e+00,  7.81070563e+01,\n",
       "        -3.18460897e+02,  8.23299881e+02, -1.45031105e+03,  1.81566889e+03,\n",
       "        -1.65301894e+03,  1.10494527e+03, -5.41441591e+02,  1.91966499e+02,\n",
       "        -4.78655265e+01,  7.95204148e+00, -7.89550837e-01,  3.54187776e-02]),\n",
       " -0.01200074100206594)"
      ]
     },
     "execution_count": 22,
     "metadata": {},
     "output_type": "execute_result"
    }
   ],
   "source": [
    "linear = linear_model.LinearRegression()\n",
    "\n",
    "linear.fit(x_15, y)\n",
    "\n",
    "(linear.coef_, linear.intercept_)"
   ]
  },
  {
   "cell_type": "code",
   "execution_count": 23,
   "metadata": {},
   "outputs": [
    {
     "data": {
      "text/plain": [
       "[<matplotlib.lines.Line2D at 0x27b10a8a6d8>]"
      ]
     },
     "execution_count": 23,
     "metadata": {},
     "output_type": "execute_result"
    },
    {
     "data": {
      "image/png": "[encoded data removed]",
      "text/plain": [
       "<Figure size 432x288 with 1 Axes>"
      ]
     },
     "metadata": {},
     "output_type": "display_data"
    }
   ],
   "source": [
    "plt.scatter(x,y)\n",
    "plt.plot(x, np.dot(x_15, linear.coef_) + linear.intercept_, c='b')"
   ]
  },
  {
   "cell_type": "code",
   "execution_count": 24,
   "metadata": {},
   "outputs": [],
   "source": [
    "from sklearn.preprocessing import PolynomialFeatures\n",
    "\n",
    "poly = PolynomialFeatures(degree=2)\n",
    "\n",
    "x_2= poly.fit_transform(x.reshape(-1, 1))"
   ]
  },
  {
   "cell_type": "code",
   "execution_count": 25,
   "metadata": {},
   "outputs": [
    {
     "data": {
      "text/plain": [
       "(array([ 0.00000000e+00, -2.80547562e-04,  1.00001556e+00]),\n",
       " 0.0002031101826003301)"
      ]
     },
     "execution_count": 25,
     "metadata": {},
     "output_type": "execute_result"
    }
   ],
   "source": [
    "linear = linear_model.LinearRegression()\n",
    "\n",
    "linear.fit(x_2, y)\n",
    "\n",
    "(linear.coef_, linear.intercept_)"
   ]
  },
  {
   "cell_type": "code",
   "execution_count": 26,
   "metadata": {},
   "outputs": [
    {
     "data": {
      "text/plain": [
       "[<matplotlib.lines.Line2D at 0x27b10a73f28>]"
      ]
     },
     "execution_count": 26,
     "metadata": {},
     "output_type": "execute_result"
    },
    {
     "data": {
      "image/png": "[encoded data removed]",
      "text/plain": [
       "<Figure size 432x288 with 1 Axes>"
      ]
     },
     "metadata": {},
     "output_type": "display_data"
    }
   ],
   "source": [
    "plt.scatter(x,y)\n",
    "plt.plot(x, np.dot(x_2, linear.coef_) + linear.intercept_, c='b')"
   ]
  },
  {
   "cell_type": "markdown",
   "metadata": {},
   "source": [
    "## 2. Choose one of the polynomial models and create 3 new models fit to `hour_of_day` with different Ridge Regression $\\alpha$ (alpha) Ridge Coefficient values\n"
   ]
  },
  {
   "cell_type": "code",
   "execution_count": 28,
   "metadata": {},
   "outputs": [],
   "source": [
    "from sklearn.preprocessing import PolynomialFeatures\n",
    "\n",
    "poly = PolynomialFeatures(degree=2)\n",
    "\n",
    "x_2= poly.fit_transform(x.reshape(-1, 1))"
   ]
  },
  {
   "cell_type": "code",
   "execution_count": 29,
   "metadata": {},
   "outputs": [
    {
     "data": {
      "text/plain": [
       "(array([ 0.00000000e+00, -2.80547562e-04,  1.00001556e+00]),\n",
       " 0.0002031101826003301)"
      ]
     },
     "execution_count": 29,
     "metadata": {},
     "output_type": "execute_result"
    }
   ],
   "source": [
    "linear = linear_model.LinearRegression()\n",
    "\n",
    "linear.fit(x_2, y)\n",
    "\n",
    "(linear.coef_, linear.intercept_)"
   ]
  },
  {
   "cell_type": "code",
   "execution_count": 30,
   "metadata": {},
   "outputs": [
    {
     "data": {
      "text/plain": [
       "(array([ 0.00000000e+00, -2.68265367e-04,  1.00001148e+00]),\n",
       " 0.00019690716894382732)"
      ]
     },
     "execution_count": 30,
     "metadata": {},
     "output_type": "execute_result"
    }
   ],
   "source": [
    "ridge = linear_model.Ridge()\n",
    "\n",
    "ridge.fit(x_2, y)\n",
    "\n",
    "(ridge.coef_, ridge.intercept_)"
   ]
  },
  {
   "cell_type": "code",
   "execution_count": 31,
   "metadata": {},
   "outputs": [
    {
     "data": {
      "text/plain": [
       "[<matplotlib.lines.Line2D at 0x27b21c3de48>]"
      ]
     },
     "execution_count": 31,
     "metadata": {},
     "output_type": "execute_result"
    },
    {
     "data": {
      "image/png": "[encoded data removed]",
      "text/plain": [
       "<Figure size 432x288 with 1 Axes>"
      ]
     },
     "metadata": {},
     "output_type": "display_data"
    }
   ],
   "source": [
    "plt.scatter(x,y)\n",
    "plt.plot(x, np.dot(x_2, linear.coef_) + linear.intercept_, c='b')\n",
    "plt.plot(x, np.dot(x_2, ridge.coef_) + ridge.intercept_, c='r')"
   ]
  },
  {
   "cell_type": "code",
   "execution_count": 33,
   "metadata": {},
   "outputs": [],
   "source": [
    "from sklearn.preprocessing import PolynomialFeatures\n",
    "\n",
    "poly = PolynomialFeatures(degree=10)\n",
    "\n",
    "x_10= poly.fit_transform(x.reshape(-1, 1))"
   ]
  },
  {
   "cell_type": "code",
   "execution_count": 34,
   "metadata": {},
   "outputs": [
    {
     "data": {
      "text/plain": [
       "(array([ 0.00000000e+00, -2.69350137e-01,  3.23020591e+00, -7.93397599e+00,\n",
       "         1.50586040e+01, -1.69134968e+01,  1.17999450e+01, -5.16990652e+00,\n",
       "         1.38409188e+00, -2.06961823e-01,  1.32467576e-02]),\n",
       " 0.00821148524487425)"
      ]
     },
     "execution_count": 34,
     "metadata": {},
     "output_type": "execute_result"
    }
   ],
   "source": [
    "linear = linear_model.LinearRegression()\n",
    "\n",
    "linear.fit(x_10, y)\n",
    "\n",
    "(linear.coef_, linear.intercept_)"
   ]
  },
  {
   "cell_type": "code",
   "execution_count": 35,
   "metadata": {},
   "outputs": [
    {
     "data": {
      "text/plain": [
       "(array([ 0.00000000e+00,  5.75627166e-02,  8.15267892e-01,  2.14350609e-01,\n",
       "        -5.16450114e-02, -6.66603686e-02,  2.71026942e-02,  2.37241422e-02,\n",
       "        -2.01040579e-02,  5.41370221e-03, -5.11622599e-04]),\n",
       " -0.00444042052149074)"
      ]
     },
     "execution_count": 35,
     "metadata": {},
     "output_type": "execute_result"
    }
   ],
   "source": [
    "ridge = linear_model.Ridge()\n",
    "\n",
    "ridge.fit(x_10, y)\n",
    "\n",
    "(ridge.coef_, ridge.intercept_)"
   ]
  },
  {
   "cell_type": "code",
   "execution_count": 36,
   "metadata": {},
   "outputs": [
    {
     "data": {
      "text/plain": [
       "[<matplotlib.lines.Line2D at 0x27b21cc32e8>]"
      ]
     },
     "execution_count": 36,
     "metadata": {},
     "output_type": "execute_result"
    },
    {
     "data": {
      "image/png": "[encoded data removed]",
      "text/plain": [
       "<Figure size 432x288 with 1 Axes>"
      ]
     },
     "metadata": {},
     "output_type": "display_data"
    }
   ],
   "source": [
    "plt.scatter(x,y)\n",
    "plt.plot(x, np.dot(x_10, linear.coef_) + linear.intercept_, c='b')\n",
    "plt.plot(x, np.dot(x_10, ridge.coef_) + ridge.intercept_, c='r')"
   ]
  },
  {
   "cell_type": "code",
   "execution_count": 41,
   "metadata": {},
   "outputs": [],
   "source": [
    "from sklearn.preprocessing import PolynomialFeatures\n",
    "\n",
    "poly = PolynomialFeatures(degree=50)\n",
    "\n",
    "x_50= poly.fit_transform(x.reshape(-1, 1))"
   ]
  },
  {
   "cell_type": "code",
   "execution_count": 43,
   "metadata": {},
   "outputs": [
    {
     "data": {
      "text/plain": [
       "(array([-7.84092274e-15, -6.28289279e-09,  3.25145576e-10, -1.57611314e-11,\n",
       "        -1.00807983e-10,  4.96783680e-11, -5.49029186e-11,  2.50288708e-11,\n",
       "        -1.35409544e-11, -8.94452050e-11, -3.41023130e-10, -2.63362808e-10,\n",
       "         2.49462510e-13,  4.93069187e-13,  9.62038249e-13,  1.85377499e-12,\n",
       "         3.52796551e-12,  6.62948500e-12,  1.22939988e-11,  2.24816467e-11,\n",
       "         4.04989290e-11,  7.17774222e-11,  1.24964481e-10,  2.13315392e-10,\n",
       "         3.56208461e-10,  5.80264770e-10,  9.18973083e-10,  1.40888850e-09,\n",
       "         2.07957683e-09,  2.93412479e-09,  3.91854130e-09,  4.88384816e-09,\n",
       "         5.55633790e-09,  5.54926479e-09,  4.46543565e-09,  2.13238582e-09,\n",
       "        -1.05868097e-09, -3.90481767e-09, -4.64164904e-09, -2.10766202e-09,\n",
       "         2.43784701e-09,  4.71228663e-09,  1.01570546e-09, -4.68704963e-09,\n",
       "        -1.71789488e-09,  5.96949340e-09, -4.25118396e-09,  1.54375889e-09,\n",
       "        -3.18034208e-10,  3.55562964e-11, -1.68615021e-12]),\n",
       " 1.3545903246543278)"
      ]
     },
     "execution_count": 43,
     "metadata": {},
     "output_type": "execute_result"
    }
   ],
   "source": [
    "linear = linear_model.LinearRegression()\n",
    "\n",
    "linear.fit(x_50, y)\n",
    "\n",
    "(linear.coef_, linear.intercept_)"
   ]
  },
  {
   "cell_type": "code",
   "execution_count": 44,
   "metadata": {},
   "outputs": [
    {
     "data": {
      "text/plain": [
       "(array([-4.54651451e-10, -5.45183013e-08,  1.45916922e-08,  3.79095648e-08,\n",
       "        -1.03128319e-08,  4.94298116e-09, -6.07296967e-10, -1.24841405e-09,\n",
       "         1.72398705e-09, -4.95932816e-10,  4.62597221e-08, -4.86216542e-08,\n",
       "         2.95555274e-09, -3.39590468e-09, -5.39262619e-09,  9.22836668e-10,\n",
       "         5.96188294e-09,  9.43570327e-11,  1.57776112e-10,  2.84270233e-10,\n",
       "         4.27793062e-10,  4.93504949e-10,  8.14715766e-10,  1.16570418e-09,\n",
       "         1.57830235e-09,  2.14680423e-09,  2.94137260e-09,  3.61328913e-09,\n",
       "         4.28970383e-09,  4.76800546e-09,  4.55545859e-09,  3.77685886e-09,\n",
       "         2.31607521e-09, -2.75192354e-12, -2.26865886e-09, -3.63123481e-09,\n",
       "        -3.05716080e-09, -4.37109221e-10,  2.76484288e-09,  3.50522401e-09,\n",
       "         2.77570365e-10, -3.32272907e-09, -2.30737298e-09,  3.82373934e-09,\n",
       "         5.26011859e-10, -2.92605503e-09,  2.04301439e-09, -7.22374677e-10,\n",
       "         1.45758086e-10, -1.60650606e-11,  7.55336314e-13]), 2.583655266060578)"
      ]
     },
     "execution_count": 44,
     "metadata": {},
     "output_type": "execute_result"
    }
   ],
   "source": [
    "ridge = linear_model.Ridge()\n",
    "\n",
    "ridge.fit(x_50, y)\n",
    "\n",
    "(ridge.coef_, ridge.intercept_)"
   ]
  },
  {
   "cell_type": "code",
   "execution_count": 45,
   "metadata": {},
   "outputs": [
    {
     "data": {
      "text/plain": [
       "[<matplotlib.lines.Line2D at 0x27b21d24cf8>]"
      ]
     },
     "execution_count": 45,
     "metadata": {},
     "output_type": "execute_result"
    },
    {
     "data": {
      "image/png": "[encoded data removed]",
      "text/plain": [
       "<Figure size 432x288 with 1 Axes>"
      ]
     },
     "metadata": {},
     "output_type": "display_data"
    }
   ],
   "source": [
    "plt.scatter(x,y)\n",
    "plt.plot(x, np.dot(x_50, linear.coef_) + linear.intercept_, c='b')\n",
    "plt.plot(x, np.dot(x_50, ridge.coef_) + ridge.intercept_, c='r')"
   ]
  }
 ],
 "metadata": {
  "kernelspec": {
   "display_name": "Python 3",
   "language": "python",
   "name": "python3"
  },
  "language_info": {
   "codemirror_mode": {
    "name": "ipython",
    "version": 3
   },
   "file_extension": ".py",
   "mimetype": "text/x-python",
   "name": "python",
   "nbconvert_exporter": "python",
   "pygments_lexer": "ipython3",
   "version": "3.6.5"
  }
 },
 "nbformat": 4,
 "nbformat_minor": 2
}
